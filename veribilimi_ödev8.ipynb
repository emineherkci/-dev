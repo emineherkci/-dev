{
  "nbformat": 4,
  "nbformat_minor": 0,
  "metadata": {
    "colab": {
      "provenance": [],
      "authorship_tag": "ABX9TyO8RMOa+KQ7WHeKrYhGx6mN",
      "include_colab_link": true
    },
    "kernelspec": {
      "name": "python3",
      "display_name": "Python 3"
    },
    "language_info": {
      "name": "python"
    }
  },
  "cells": [
    {
      "cell_type": "markdown",
      "metadata": {
        "id": "view-in-github",
        "colab_type": "text"
      },
      "source": [
        "<a href=\"https://colab.research.google.com/github/emineherkci/-dev/blob/main/veribilimi_%C3%B6dev8.ipynb\" target=\"_parent\"><img src=\"https://colab.research.google.com/assets/colab-badge.svg\" alt=\"Open In Colab\"/></a>"
      ]
    },
    {
      "cell_type": "code",
      "execution_count": 1,
      "metadata": {
        "colab": {
          "base_uri": "https://localhost:8080/"
        },
        "id": "nccIhu_Rq8qA",
        "outputId": "e48cf620-7d3e-48f5-a261-d76463e21631"
      },
      "outputs": [
        {
          "output_type": "stream",
          "name": "stdout",
          "text": [
            "   Kategori           Ürün  Fiyat\n",
            "0     Giyim          Kazak    300\n",
            "1     Giyim        T-shirt    180\n",
            "2  Ayakkabı       Sandalet    450\n",
            "3  Aksesuar           Küpe     50\n",
            "4  Ayakkabı  Spor Ayakkabı    700\n",
            "5     Giyim       Pantolon    400\n",
            "6  Aksesuar          Kolye    150\n",
            "7  Aksesuar          Yüzük     80\n",
            "8  Ayakkabı          Çizme    850\n",
            "9     Giyim          Ceket    900\n"
          ]
        }
      ],
      "source": [
        "#1. ödev\n",
        "import pandas as pd\n",
        "\n",
        "# Sözlük tanımı\n",
        "sozluk = {\n",
        "    \"Kategori\": [\"Giyim\", \"Giyim\", \"Ayakkabı\", \"Aksesuar\", \"Ayakkabı\", \"Giyim\", \"Aksesuar\", \"Aksesuar\", \"Ayakkabı\", \"Giyim\"],\n",
        "    \"Ürün\": [\"Kazak\", \"T-shirt\", \"Sandalet\", \"Küpe\", \"Spor Ayakkabı\", \"Pantolon\", \"Kolye\", \"Yüzük\", \"Çizme\", \"Ceket\"],\n",
        "    \"Fiyat\": [300, 180, 450, 50, 700, 400, 150, 80, 850, 900]\n",
        "}\n",
        "\n",
        "# DataFrame oluşturma\n",
        "df = pd.DataFrame(sozluk)\n",
        "\n",
        "# DataFrame’i yazdırma\n",
        "print(df)\n"
      ]
    },
    {
      "cell_type": "code",
      "source": [
        "#2. ödev\n",
        "import pandas as pd\n",
        "\n",
        "sozluk = {\n",
        "    \"Kategori\": [\"Giyim\", \"Giyim\", \"Ayakkabı\", \"Aksesuar\", \"Ayakkabı\", \"Giyim\", \"Aksesuar\", \"Aksesuar\", \"Ayakkabı\", \"Giyim\"],\n",
        "    \"Ürün\": [\"Kazak\", \"T-shirt\", \"Sandalet\", \"Küpe\", \"Spor Ayakkabı\", \"Pantolon\", \"Kolye\", \"Yüzük\", \"Çizme\", \"Ceket\"],\n",
        "    \"Fiyat\": [300, 180, 450, 50, 700, 400, 150, 80, 850, 900]\n",
        "}\n",
        "\n",
        "df = pd.DataFrame(sozluk)\n",
        "\n",
        "# 2. indexdeki kategori\n",
        "kategori_2 = df.loc[2, \"Kategori\"]\n",
        "\n",
        "# 2. indexdeki ürün\n",
        "urun_2 = df.loc[2, \"Ürün\"]\n",
        "\n",
        "# 4. indexten 9. indexe kadar olan veriler (Kategori, Ürün, Fiyat)\n",
        "veriler_4_9 = df.loc[4:9]\n",
        "\n",
        "# 1. indexten 6. indexe kadar olan ürünler (sadece Ürün bilgisi)\n",
        "urunler_1_6 = df.loc[1:6, \"Ürün\"]\n",
        "\n",
        "print(\"2. indexdeki kategori:\", kategori_2)\n",
        "print(\"2. indexdeki ürün:\", urun_2)\n",
        "print(\"\\n4 ile 9. index arası veriler:\\n\", veriler_4_9)\n",
        "print(\"\\n1 ile 6. index arası ürünler:\\n\", urunler_1_6)\n"
      ],
      "metadata": {
        "colab": {
          "base_uri": "https://localhost:8080/"
        },
        "id": "H33p9KFdq9VH",
        "outputId": "31a0efd0-f517-455d-e071-bb918f842f14"
      },
      "execution_count": 2,
      "outputs": [
        {
          "output_type": "stream",
          "name": "stdout",
          "text": [
            "2. indexdeki kategori: Ayakkabı\n",
            "2. indexdeki ürün: Sandalet\n",
            "\n",
            "4 ile 9. index arası veriler:\n",
            "    Kategori           Ürün  Fiyat\n",
            "4  Ayakkabı  Spor Ayakkabı    700\n",
            "5     Giyim       Pantolon    400\n",
            "6  Aksesuar          Kolye    150\n",
            "7  Aksesuar          Yüzük     80\n",
            "8  Ayakkabı          Çizme    850\n",
            "9     Giyim          Ceket    900\n",
            "\n",
            "1 ile 6. index arası ürünler:\n",
            " 1          T-shirt\n",
            "2         Sandalet\n",
            "3             Küpe\n",
            "4    Spor Ayakkabı\n",
            "5         Pantolon\n",
            "6            Kolye\n",
            "Name: Ürün, dtype: object\n"
          ]
        }
      ]
    },
    {
      "cell_type": "code",
      "source": [
        "#3. ödev\n",
        "import pandas as pd\n",
        "\n",
        "sozluk = {\n",
        "    \"Kategori\": [\"Giyim\", \"Giyim\", \"Ayakkabı\", \"Aksesuar\", \"Ayakkabı\", \"Giyim\", \"Aksesuar\", \"Aksesuar\", \"Ayakkabı\", \"Giyim\"],\n",
        "    \"Ürün\": [\"Kazak\", \"T-shirt\", \"Sandalet\", \"Küpe\", \"Spor Ayakkabı\", \"Pantolon\", \"Kolye\", \"Yüzük\", \"Çizme\", \"Ceket\"],\n",
        "    \"Fiyat\": [300, 180, 450, 50, 700, 400, 150, 80, 850, 900]\n",
        "}\n",
        "\n",
        "df = pd.DataFrame(sozluk)\n",
        "\n",
        "# Giyim kategorisindeki ürünler\n",
        "giyim_urunleri = df[df[\"Kategori\"] == \"Giyim\"][\"Ürün\"]\n",
        "\n",
        "# Ayakkabı kategorisindeki ürünler\n",
        "ayakkabi_urunleri = df[df[\"Kategori\"] == \"Ayakkabı\"][\"Ürün\"]\n",
        "\n",
        "# Aksesuar kategorisindeki ürünler\n",
        "aksesuar_urunleri = df[df[\"Kategori\"] == \"Aksesuar\"][\"Ürün\"]\n",
        "\n",
        "print(\"Giyim kategorisindeki ürünler:\\n\", giyim_urunleri.to_list())\n",
        "print(\"\\nAyakkabı kategorisindeki ürünler:\\n\", ayakkabi_urunleri.to_list())\n",
        "print(\"\\nAksesuar kategorisindeki ürünler:\\n\", aksesuar_urunleri.to_list())\n"
      ],
      "metadata": {
        "colab": {
          "base_uri": "https://localhost:8080/"
        },
        "id": "i5aPhZU7q9X8",
        "outputId": "09863e79-9bd5-46e8-925a-3408e085da39"
      },
      "execution_count": 3,
      "outputs": [
        {
          "output_type": "stream",
          "name": "stdout",
          "text": [
            "Giyim kategorisindeki ürünler:\n",
            " ['Kazak', 'T-shirt', 'Pantolon', 'Ceket']\n",
            "\n",
            "Ayakkabı kategorisindeki ürünler:\n",
            " ['Sandalet', 'Spor Ayakkabı', 'Çizme']\n",
            "\n",
            "Aksesuar kategorisindeki ürünler:\n",
            " ['Küpe', 'Kolye', 'Yüzük']\n"
          ]
        }
      ]
    },
    {
      "cell_type": "code",
      "source": [
        "#4. ödev\n",
        "import pandas as pd\n",
        "\n",
        "sozluk = {\n",
        "    \"Kategori\": [\"Giyim\", \"Giyim\", \"Ayakkabı\", \"Aksesuar\", \"Ayakkabı\", \"Giyim\", \"Aksesuar\", \"Aksesuar\", \"Ayakkabı\", \"Giyim\"],\n",
        "    \"Ürün\": [\"Kazak\", \"T-shirt\", \"Sandalet\", \"Küpe\", \"Spor Ayakkabı\", \"Pantolon\", \"Kolye\", \"Yüzük\", \"Çizme\", \"Ceket\"],\n",
        "    \"Fiyat\": [300, 180, 450, 50, 700, 400, 150, 80, 850, 900]\n",
        "}\n",
        "\n",
        "df = pd.DataFrame(sozluk)\n",
        "\n",
        "# Giyim kategorisinde fiyatı 300'den fazla olan ürünler\n",
        "giyim_fiyat_ustu = df[(df[\"Kategori\"] == \"Giyim\") & (df[\"Fiyat\"] > 300)]\n",
        "\n",
        "# Ayakkabı kategorisinde fiyatı 600'den az olan ürünler\n",
        "ayakkabi_fiyat_ustu = df[(df[\"Kategori\"] == \"Ayakkabı\") & (df[\"Fiyat\"] < 600)]\n",
        "\n",
        "# Aksesuar kategorisinde fiyatı 100'den fazla olan ürünler\n",
        "aksesuar_fiyat_ustu = df[(df[\"Kategori\"] == \"Aksesuar\") & (df[\"Fiyat\"] > 100)]\n",
        "\n",
        "print(\"Giyim kategorisinde fiyatı 300'den fazla olan ürünler:\\n\", giyim_fiyat_ustu)\n",
        "print(\"\\nAyakkabı kategorisinde fiyatı 600'den az olan ürünler:\\n\", ayakkabi_fiyat_ustu)\n",
        "print(\"\\nAksesuar kategorisinde fiyatı 100'den fazla olan ürünler:\\n\", aksesuar_fiyat_ustu)\n"
      ],
      "metadata": {
        "colab": {
          "base_uri": "https://localhost:8080/"
        },
        "id": "eiJi67Ccq9an",
        "outputId": "ab22e09d-dd27-4b89-da21-58b829396d90"
      },
      "execution_count": 4,
      "outputs": [
        {
          "output_type": "stream",
          "name": "stdout",
          "text": [
            "Giyim kategorisinde fiyatı 300'den fazla olan ürünler:\n",
            "   Kategori      Ürün  Fiyat\n",
            "5    Giyim  Pantolon    400\n",
            "9    Giyim     Ceket    900\n",
            "\n",
            "Ayakkabı kategorisinde fiyatı 600'den az olan ürünler:\n",
            "    Kategori      Ürün  Fiyat\n",
            "2  Ayakkabı  Sandalet    450\n",
            "\n",
            "Aksesuar kategorisinde fiyatı 100'den fazla olan ürünler:\n",
            "    Kategori   Ürün  Fiyat\n",
            "6  Aksesuar  Kolye    150\n"
          ]
        }
      ]
    },
    {
      "cell_type": "code",
      "source": [],
      "metadata": {
        "id": "U5BIbAaNq9eB"
      },
      "execution_count": 4,
      "outputs": []
    },
    {
      "cell_type": "code",
      "source": [],
      "metadata": {
        "id": "Z-5g2Jy8q9mD"
      },
      "execution_count": 4,
      "outputs": []
    }
  ]
}