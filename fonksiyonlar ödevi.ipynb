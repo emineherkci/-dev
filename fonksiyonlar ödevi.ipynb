{
 "cells": [
  {
   "cell_type": "code",
   "execution_count": 21,
   "id": "035f0a4c-8206-4b8c-a688-80cb283ace10",
   "metadata": {},
   "outputs": [
    {
     "name": "stdin",
     "output_type": "stream",
     "text": [
      "Pi değerini girin (örnek: 3.14):  3.14\n",
      "Yarıçapı girin:  6\n"
     ]
    },
    {
     "name": "stdout",
     "output_type": "stream",
     "text": [
      "Dairenin alanı: 113.04\n"
     ]
    }
   ],
   "source": [
    "#fonksiyonlar ödevi 1\n",
    "# Ödev 1: Daire alanı hesaplama\n",
    "\n",
    "def daire_alani_hesapla(pi, yaricap):\n",
    "    alan = pi * (yaricap ** 2)\n",
    "    return alan\n",
    "\n",
    "# Kullanıcıdan pi ve yarıçap bilgisi alınır\n",
    "pi_degeri = float(input(\"Pi değerini girin (örnek: 3.14): \"))\n",
    "yaricap = float(input(\"Yarıçapı girin: \"))\n",
    "\n",
    "# Fonksiyon çağrılır ve sonuç yazdırılır\n",
    "alan = daire_alani_hesapla(pi_degeri, yaricap)\n",
    "print(f\"Dairenin alanı: {alan:.2f}\")\n"
   ]
  },
  {
   "cell_type": "code",
   "execution_count": 23,
   "id": "4acb14a7-8220-41c5-8912-0aa58c06847e",
   "metadata": {},
   "outputs": [
    {
     "name": "stdin",
     "output_type": "stream",
     "text": [
      "Faktöriyeli hesaplanacak sayıyı girin:  5\n"
     ]
    },
    {
     "name": "stdout",
     "output_type": "stream",
     "text": [
      "5. sayının faktöriyeli: 120\n"
     ]
    }
   ],
   "source": [
    "#fonksiyonlar ödevi 2\n",
    "# Ödev 2: Faktöriyel hesaplama fonksiyonu\n",
    "\n",
    "def faktoriyel(n):\n",
    "    sonuc = 1\n",
    "    for i in range(1, n+1):\n",
    "        sonuc *= i\n",
    "    return sonuc\n",
    "\n",
    "# Kullanıcıdan sayı alınır\n",
    "sayi = int(input(\"Faktöriyeli hesaplanacak sayıyı girin: \"))\n",
    "\n",
    "# Fonksiyon çağrılır\n",
    "fakt = faktoriyel(sayi)\n",
    "\n",
    "# Sonuç format metodu ile yazdırılır\n",
    "print(\"{}. sayının faktöriyeli: {}\".format(sayi, fakt))\n"
   ]
  },
  {
   "cell_type": "code",
   "execution_count": 29,
   "id": "39af4000-e39d-4310-a3c4-60c901e73d96",
   "metadata": {},
   "outputs": [
    {
     "name": "stdin",
     "output_type": "stream",
     "text": [
      "Doğum yılınızı girin:  2002\n"
     ]
    },
    {
     "name": "stdout",
     "output_type": "stream",
     "text": [
      "Yaşınız: 23\n"
     ]
    }
   ],
   "source": [
    "#fonksiyonlar ödevi 3\n",
    "# Ödev 3: Yaş hesaplama fonksiyonu\n",
    "\n",
    "def yas_hesapla(dogum_yili, suanki_yil=2025):\n",
    "    return suanki_yil - dogum_yili\n",
    "\n",
    "# Kullanıcıdan doğum yılı alınır\n",
    "dogum = int(input(\"Doğum yılınızı girin: \"))\n",
    "\n",
    "# Fonksiyon çağrılır\n",
    "yas = yas_hesapla(dogum)\n",
    "\n",
    "print(f\"Yaşınız: {yas}\")\n",
    "\n"
   ]
  },
  {
   "cell_type": "code",
   "execution_count": 31,
   "id": "6a1f49d9-70cf-488f-96ec-47f1aeaabcd4",
   "metadata": {},
   "outputs": [
    {
     "name": "stdin",
     "output_type": "stream",
     "text": [
      "İsminizi girin:  emine\n",
      "Doğum yılınızı girin:  2002\n"
     ]
    },
    {
     "name": "stdout",
     "output_type": "stream",
     "text": [
      "emine emekliliğine 42 yıl kaldı.\n"
     ]
    }
   ],
   "source": [
    "#fonksiyonlar ödevi 4\n",
    "# Önceki yas_hesapla fonksiyonu\n",
    "def yas_hesapla(dogum_yili, suanki_yil=2025):\n",
    "    return suanki_yil - dogum_yili\n",
    "\n",
    "# Emeklilik kontrol fonksiyonu\n",
    "def emeklilik_durumu(isim, dogum_yili):\n",
    "    yas = yas_hesapla(dogum_yili)\n",
    "    emeklilik_yasi = 65\n",
    "    \n",
    "    if yas >= emeklilik_yasi:\n",
    "        print(\"Emekli oldunuz.\")\n",
    "    else:\n",
    "        kalan_yil = emeklilik_yasi - yas\n",
    "        print(f\"{isim} emekliliğine {kalan_yil} yıl kaldı.\")\n",
    "\n",
    "# Kullanıcıdan bilgi alınır\n",
    "isim = input(\"İsminizi girin: \")\n",
    "dogum = int(input(\"Doğum yılınızı girin: \"))\n",
    "\n",
    "# Fonksiyon çağrılır\n",
    "emeklilik_durumu(isim, dogum)\n"
   ]
  },
  {
   "cell_type": "code",
   "execution_count": null,
   "id": "69073a15-1ba9-4d4b-9e8b-0cc9a2e1f2f4",
   "metadata": {},
   "outputs": [],
   "source": []
  }
 ],
 "metadata": {
  "kernelspec": {
   "display_name": "Python [conda env:anaconda3]",
   "language": "python",
   "name": "conda-env-anaconda3-py"
  },
  "language_info": {
   "codemirror_mode": {
    "name": "ipython",
    "version": 3
   },
   "file_extension": ".py",
   "mimetype": "text/x-python",
   "name": "python",
   "nbconvert_exporter": "python",
   "pygments_lexer": "ipython3",
   "version": "3.12.7"
  }
 },
 "nbformat": 4,
 "nbformat_minor": 5
}
