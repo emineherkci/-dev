{
 "cells": [
  {
   "cell_type": "code",
   "execution_count": 11,
   "id": "35a258b8-a7f9-4d45-9a97-db1364157d05",
   "metadata": {},
   "outputs": [
    {
     "name": "stdin",
     "output_type": "stream",
     "text": [
      "Lütfen maaşınızı girin:  40000\n"
     ]
    },
    {
     "name": "stdout",
     "output_type": "stream",
     "text": [
      "Vergi oranı: %25\n",
      "Kesilen miktar: 10000.00 TL\n",
      "Yeni maaşınız: 30000.00 TL\n"
     ]
    }
   ],
   "source": [
    "# 1. hafta 2. ödev 1 \n",
    "# Ödev-1: Maaşa göre vergi hesaplama\n",
    "\n",
    "# Kullanıcıdan maaş bilgisi alınır\n",
    "maas = float(input(\"Lütfen maaşınızı girin: \"))\n",
    "\n",
    "# Vergi hesaplama\n",
    "if maas <= 10000:\n",
    "    kesinti_orani = 0.05\n",
    "elif maas <= 25000:\n",
    "    kesinti_orani = 0.10\n",
    "elif maas <= 45000:\n",
    "    kesinti_orani = 0.25\n",
    "else:\n",
    "    kesinti_orani = 0.30\n",
    "\n",
    "# Kesinti ve yeni maaş hesaplanır\n",
    "vergi_kesintisi = maas * kesinti_orani\n",
    "yeni_maas = maas - vergi_kesintisi\n",
    "\n",
    "# Sonuç yazdırılır\n",
    "print(f\"Vergi oranı: %{int(kesinti_orani * 100)}\")\n",
    "print(f\"Kesilen miktar: {vergi_kesintisi:.2f} TL\")\n",
    "print(f\"Yeni maaşınız: {yeni_maas:.2f} TL\")\n"
   ]
  },
  {
   "cell_type": "code",
   "execution_count": 13,
   "id": "bbfa35ca-aef7-4305-a5c3-0716644238e2",
   "metadata": {},
   "outputs": [
    {
     "name": "stdin",
     "output_type": "stream",
     "text": [
      "Kullanıcı adınızı oluşturun:  emineherkci\n",
      "Şifrenizi oluşturun:  12345\n"
     ]
    },
    {
     "name": "stdout",
     "output_type": "stream",
     "text": [
      "Şifreniz en az 6 haneli olmalıdır.\n"
     ]
    }
   ],
   "source": [
    "# 1. hafta 2. ödev 2\n",
    "# Kullanıcıdan kullanıcı adı ve şifre alınır\n",
    "kullanici_adi = input(\"Kullanıcı adınızı oluşturun: \")\n",
    "sifre = input(\"Şifrenizi oluşturun: \")\n",
    "\n",
    "# Şifre uzunluğu kontrol edilir\n",
    "if len(sifre) >= 6:\n",
    "    print(\"Hesabınız oluşturuldu.\")\n",
    "else:\n",
    "    print(\"Şifreniz en az 6 haneli olmalıdır.\")\n"
   ]
  },
  {
   "cell_type": "code",
   "execution_count": 15,
   "id": "bb0d37bf-5ac3-466d-80d6-61275ab42ea7",
   "metadata": {},
   "outputs": [
    {
     "name": "stdin",
     "output_type": "stream",
     "text": [
      "Kullanıcı adınızı oluşturun:  emineherkci\n",
      "Şifrenizi oluşturun (5-10 karakter arasında olmalı):  145896\n"
     ]
    },
    {
     "name": "stdout",
     "output_type": "stream",
     "text": [
      "Hesabınız oluşturuldu.\n"
     ]
    }
   ],
   "source": [
    "# 1. hafta 2. ödev 3 \n",
    "# Ödev-3: Şifre oluşturma - Geliştirilmiş hali\n",
    "\n",
    "kullanici_adi = input(\"Kullanıcı adınızı oluşturun: \")\n",
    "\n",
    "while True:\n",
    "    sifre = input(\"Şifrenizi oluşturun (5-10 karakter arasında olmalı): \")\n",
    "    \n",
    "    if 5 <= len(sifre) <= 10:\n",
    "        print(\"Hesabınız oluşturuldu.\")\n",
    "        break\n",
    "    else:\n",
    "        print(\"Lütfen girdiğiniz şifre 5 haneden az 10 haneden fazla olmasın!\")\n"
   ]
  },
  {
   "cell_type": "code",
   "execution_count": 17,
   "id": "9f6ca8da-8d65-4eaa-a4fe-adf2e60ca152",
   "metadata": {},
   "outputs": [
    {
     "name": "stdin",
     "output_type": "stream",
     "text": [
      "Kullanıcı adınızı girin:  emineherkci\n",
      "Şifrenizi girin:  2547896\n"
     ]
    },
    {
     "name": "stdout",
     "output_type": "stream",
     "text": [
      "Yanlış şifre girildi! Kalan deneme hakkı: 2\n"
     ]
    },
    {
     "name": "stdin",
     "output_type": "stream",
     "text": [
      "Şifrenizi girin:  452456\n"
     ]
    },
    {
     "name": "stdout",
     "output_type": "stream",
     "text": [
      "Yanlış şifre girildi! Kalan deneme hakkı: 1\n"
     ]
    },
    {
     "name": "stdin",
     "output_type": "stream",
     "text": [
      "Şifrenizi girin:  145896\n"
     ]
    },
    {
     "name": "stdout",
     "output_type": "stream",
     "text": [
      "Üç kez yanlış şifre girdiniz. Giriş hakkınız kalmadı.\n"
     ]
    }
   ],
   "source": [
    "# 1. hafta 2. ödev 4\n",
    "# Ödev-4: Şifre girişi - 3 hak\n",
    "\n",
    "# Önceden tanımlı kullanıcı adı ve şifre\n",
    "dogru_kullanici = \"emine\"\n",
    "dogru_sifre = \"123456\"\n",
    "\n",
    "# Kullanıcıdan kullanıcı adı alınır (isteğe bağlı kontrol için)\n",
    "kullanici_adi = input(\"Kullanıcı adınızı girin: \")\n",
    "\n",
    "# 3 hak tanımlanır\n",
    "hak = 3\n",
    "\n",
    "while hak > 0:\n",
    "    sifre = input(\"Şifrenizi girin: \")\n",
    "    \n",
    "    if sifre == dogru_sifre:\n",
    "        print(\"Giriş yapıldı.\")\n",
    "        break\n",
    "    else:\n",
    "        hak -= 1\n",
    "        if hak == 0:\n",
    "            print(\"Üç kez yanlış şifre girdiniz. Giriş hakkınız kalmadı.\")\n",
    "        else:\n",
    "            print(f\"Yanlış şifre girildi! Kalan deneme hakkı: {hak}\")\n"
   ]
  },
  {
   "cell_type": "code",
   "execution_count": null,
   "id": "9a9576aa-6852-4ebb-aa0b-9c9640c9e2be",
   "metadata": {},
   "outputs": [],
   "source": []
  }
 ],
 "metadata": {
  "kernelspec": {
   "display_name": "Python [conda env:anaconda3]",
   "language": "python",
   "name": "conda-env-anaconda3-py"
  },
  "language_info": {
   "codemirror_mode": {
    "name": "ipython",
    "version": 3
   },
   "file_extension": ".py",
   "mimetype": "text/x-python",
   "name": "python",
   "nbconvert_exporter": "python",
   "pygments_lexer": "ipython3",
   "version": "3.12.7"
  }
 },
 "nbformat": 4,
 "nbformat_minor": 5
}
