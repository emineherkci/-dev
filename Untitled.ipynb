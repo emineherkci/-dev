{
 "cells": [
  {
   "cell_type": "code",
   "execution_count": 1,
   "id": "9a31329c-e173-4f2b-af88-535545559ba2",
   "metadata": {},
   "outputs": [
    {
     "name": "stdout",
     "output_type": "stream",
     "text": [
      "x: 3.0 Tipi: <class 'float'>\n",
      "y: 4 Tipi: <class 'int'>\n",
      "z: 8 Tipi: <class 'int'>\n",
      "a: 12.0 Tipi: <class 'float'>\n",
      "b: 46 Tipi: <class 'int'>\n"
     ]
    }
   ],
   "source": [
    "#1. hafta ödev 1\n",
    "# 1. x = 3 ----> floata çevirelim. Çevirdikten sonra veri tipini de yazdıralım.\n",
    "x = 3\n",
    "x = float(x)\n",
    "print(\"x:\", x, \"Tipi:\", type(x))\n",
    "\n",
    "# 2. y = 4.5 -----> integere çevirelim. Çevirdikten sonra veri tipini de yazdıralım.\n",
    "y = 4.5\n",
    "y = int(y)\n",
    "print(\"y:\", y, \"Tipi:\", type(y))\n",
    "\n",
    "# 3. z = \"8\" -----> integera çevirelim. Çevirdikten sonra veri tipini de yazdıralım.\n",
    "z = \"8\"\n",
    "z = int(z)\n",
    "print(\"z:\", z, \"Tipi:\", type(z))\n",
    "\n",
    "# 4. a = \"12\" -----> floata çevirelim. Çevirdikten sonra veri tipini de yazdıralım.\n",
    "a = \"12\"\n",
    "a = float(a)\n",
    "print(\"a:\", a, \"Tipi:\", type(a))\n",
    "\n",
    "# 5. b = \"46.8\" ------> integera çevirelim. Çevirdikten sonra veri tipini de yazdıralım.\n",
    "b = \"46.8\"\n",
    "b = float(b)  # önce float'a çeviriyoruz çünkü doğrudan int(\"46.8\") hata verir\n",
    "b = int(b)\n",
    "print(\"b:\", b, \"Tipi:\", type(b))\n"
   ]
  },
  {
   "cell_type": "code",
   "execution_count": 3,
   "id": "2962e295-e5af-4442-9918-bb6063e3fe44",
   "metadata": {},
   "outputs": [
    {
     "name": "stdout",
     "output_type": "stream",
     "text": [
      "Ali Emine'den küçük mü? True\n",
      "Emine Mehmet'ten büyük mü? True\n",
      "Ali ve Mehmet aynı yaşta mı? False\n",
      "Ali, Emine'den küçük VE Mehmet'ten büyük mü? True\n",
      "Ali, Mehmet'ten küçük VEYA Emine'den büyük mü? False\n",
      "Ali, Emine ile aynı yaşta DEĞİL mi? True\n"
     ]
    }
   ],
   "source": [
    "#1. hafta ödev 2\n",
    "# 2. Üç kişinin yaşları\n",
    "ali_yas = 25\n",
    "emine_yas = 30\n",
    "mehmet_yas = 22\n",
    "\n",
    "# Karşılaştırmalar\n",
    "print(\"Ali Emine'den küçük mü?\", ali_yas < emine_yas)\n",
    "print(\"Emine Mehmet'ten büyük mü?\", emine_yas > mehmet_yas)\n",
    "print(\"Ali ve Mehmet aynı yaşta mı?\", ali_yas == mehmet_yas)\n",
    "\n",
    "# Mantıksal operatörlerle birlikte karşılaştırma\n",
    "print(\"Ali, Emine'den küçük VE Mehmet'ten büyük mü?\", (ali_yas < emine_yas) and (ali_yas > mehmet_yas))\n",
    "print(\"Ali, Mehmet'ten küçük VEYA Emine'den büyük mü?\", (ali_yas < mehmet_yas) or (ali_yas > emine_yas))\n",
    "print(\"Ali, Emine ile aynı yaşta DEĞİL mi?\", not (ali_yas == emine_yas))\n"
   ]
  },
  {
   "cell_type": "code",
   "execution_count": 5,
   "id": "77741173-841f-4a60-a285-78ceabc0cb6f",
   "metadata": {},
   "outputs": [
    {
     "name": "stdin",
     "output_type": "stream",
     "text": [
      "Birinci sayıyı girin:  2\n",
      "İkinci sayıyı girin:  9\n"
     ]
    },
    {
     "name": "stdout",
     "output_type": "stream",
     "text": [
      "Bölme: 0.2222222222222222\n",
      "Toplam: 11.0\n",
      "Çıkarma: -7.0\n",
      "Çarpma: 18.0\n"
     ]
    }
   ],
   "source": [
    "# 1. hafta ödev 3\n",
    "# 3. Kullanıcıdan iki değer alınır\n",
    "sayi1 = float(input(\"Birinci sayıyı girin: \"))\n",
    "sayi2 = float(input(\"İkinci sayıyı girin: \"))\n",
    "\n",
    "# Dört işlem\n",
    "toplam = sayi1 + sayi2\n",
    "cikarma = sayi1 - sayi2\n",
    "carpma = sayi1 * sayi2\n",
    "\n",
    "# Bölme işleminde sıfıra bölme kontrolü yapılır\n",
    "if sayi2 != 0:\n",
    "    bolme = sayi1 / sayi2\n",
    "    print(\"Bölme:\", bolme)\n",
    "else:\n",
    "    print(\"Bölme: Sıfıra bölme hatası!\")\n",
    "\n",
    "# Sonuçları yazdır\n",
    "print(\"Toplam:\", toplam)\n",
    "print(\"Çıkarma:\", cikarma)\n",
    "print(\"Çarpma:\", carpma)\n"
   ]
  },
  {
   "cell_type": "code",
   "execution_count": 7,
   "id": "9a945000-70a6-4ef1-b110-771b35594b92",
   "metadata": {},
   "outputs": [
    {
     "name": "stdin",
     "output_type": "stream",
     "text": [
      "İsminiz nedir?  emine\n",
      "Yaşınız kaç?  22\n",
      "Hangi şehirde yaşıyorsunuz?  ankara\n",
      "Mesleğiniz nedir?  mühendis\n"
     ]
    },
    {
     "name": "stdout",
     "output_type": "stream",
     "text": [
      "\n",
      "--- Kullanıcı Bilgileri ---\n",
      "İsim: emine\n",
      "Yaş: 22\n",
      "Şehir: ankara\n",
      "Meslek: mühendis\n"
     ]
    }
   ],
   "source": [
    "# 1. hafta ödev 4 \n",
    "# 4. Kullanıcıdan isim, yaş, şehir ve meslek bilgileri alınır\n",
    "isim = input(\"İsminiz nedir? \")\n",
    "yas = input(\"Yaşınız kaç? \")\n",
    "sehir = input(\"Hangi şehirde yaşıyorsunuz? \")\n",
    "meslek = input(\"Mesleğiniz nedir? \")\n",
    "\n",
    "# Bilgiler ekrana yazdırılır\n",
    "print(\"\\n--- Kullanıcı Bilgileri ---\")\n",
    "print(\"İsim:\", isim)\n",
    "print(\"Yaş:\", yas)\n",
    "print(\"Şehir:\", sehir)\n",
    "print(\"Meslek:\", meslek)\n"
   ]
  },
  {
   "cell_type": "code",
   "execution_count": 9,
   "id": "e5162813-03cc-41ac-b6f5-ad33bb8cebdb",
   "metadata": {},
   "outputs": [
    {
     "name": "stdout",
     "output_type": "stream",
     "text": [
      "1. Kelimeler:\n",
      "Kelime 1: Hi-Kod\n",
      "Kelime 2: Veri\n",
      "Kelime 3: Bilimi\n",
      "Kelime 4: Atölyesi\n",
      "\n",
      "2. Büyük Harf: HI-KOD VERI BILIMI ATÖLYESI\n",
      "3. Küçük Harf: hi-kod veri bilimi atölyesi\n",
      "\n",
      "Çift Sayılar: 02468\n",
      "Tek Sayılar: 13579\n"
     ]
    }
   ],
   "source": [
    "# 1. hafta ödev 5\n",
    "# 5. \"Hi-Kod Veri Bilimi Atölyesi\" ifadesi bir değişkene tanımlanır\n",
    "ifade = \"Hi-Kod Veri Bilimi Atölyesi\"\n",
    "\n",
    "# 1. Her bir kelime değişkenden seçilir\n",
    "kelime1 = ifade[0:6]     # \"Hi-Kod\"\n",
    "kelime2 = ifade[7:11]    # \"Veri\"\n",
    "kelime3 = ifade[12:18]   # \"Bilimi\"\n",
    "kelime4 = ifade[19:]     # \"Atölyesi\"\n",
    "\n",
    "print(\"1. Kelimeler:\")\n",
    "print(\"Kelime 1:\", kelime1)\n",
    "print(\"Kelime 2:\", kelime2)\n",
    "print(\"Kelime 3:\", kelime3)\n",
    "print(\"Kelime 4:\", kelime4)\n",
    "\n",
    "# 2. İfade büyük harfe çevrilir\n",
    "buyuk_harf = ifade.upper()\n",
    "print(\"\\n2. Büyük Harf:\", buyuk_harf)\n",
    "\n",
    "# 3. İfade küçük harfe çevrilir\n",
    "kucuk_harf = ifade.lower()\n",
    "print(\"3. Küçük Harf:\", kucuk_harf)\n",
    "\n",
    "# \"0123456789\" içindeki çift ve tek sayılar\n",
    "rakamlar = \"0123456789\"\n",
    "ciftler = rakamlar[0::2]  # 0, 2, 4, 6, 8\n",
    "tekler = rakamlar[1::2]   # 1, 3, 5, 7, 9\n",
    "\n",
    "print(\"\\nÇift Sayılar:\", ciftler)\n",
    "print(\"Tek Sayılar:\", tekler)\n"
   ]
  },
  {
   "cell_type": "code",
   "execution_count": null,
   "id": "4dada2a5-8e03-45eb-94d0-1cd6613fb622",
   "metadata": {},
   "outputs": [],
   "source": []
  }
 ],
 "metadata": {
  "kernelspec": {
   "display_name": "Python [conda env:anaconda3]",
   "language": "python",
   "name": "conda-env-anaconda3-py"
  },
  "language_info": {
   "codemirror_mode": {
    "name": "ipython",
    "version": 3
   },
   "file_extension": ".py",
   "mimetype": "text/x-python",
   "name": "python",
   "nbconvert_exporter": "python",
   "pygments_lexer": "ipython3",
   "version": "3.12.7"
  }
 },
 "nbformat": 4,
 "nbformat_minor": 5
}
