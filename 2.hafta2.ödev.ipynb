{
 "cells": [
  {
   "cell_type": "code",
   "execution_count": 1,
   "id": "1af554bb-f9c1-40b6-b024-7d72dd0a8841",
   "metadata": {},
   "outputs": [
    {
     "name": "stdout",
     "output_type": "stream",
     "text": [
      "\"3\" değeri: 3\n",
      "\"Hi-Kod\" değeri: Hi-Kod\n",
      "4.7 değeri: 4.7\n",
      "Slicing 9, \"3\", 8.4, \"Hi-Kod\": [9, '3', 8.4, 'Hi-Kod']\n",
      "Slicing 8.4, \"Hi-Kod\", \"False\", 4.7: [8.4, 'Hi-Kod', 'False', 4.7]\n"
     ]
    }
   ],
   "source": [
    "#2. hafta 2. ödev 1\n",
    "liste = [\"Python\", True, 9, \"3\", 8.4, \"Hi-Kod\", \"False\", 4.7]\n",
    "\n",
    "# \"3\" değerine indexleme ile ulaşmak\n",
    "uc = liste[3]\n",
    "print('\"3\" değeri:', uc)\n",
    "\n",
    "# \"Hi-Kod\" değerine indexleme ile ulaşmak\n",
    "hi_kod = liste[5]\n",
    "print('\"Hi-Kod\" değeri:', hi_kod)\n",
    "\n",
    "# 4.7 değerine indexleme ile ulaşmak\n",
    "dort_nokta_yedi = liste[7]\n",
    "print('4.7 değeri:', dort_nokta_yedi)\n",
    "\n",
    "# 9, \"3\", 8.4, \"Hi-Kod\" değerlerine slicing ile ulaşmak\n",
    "dilim1 = liste[2:6]  # 2'den 5'e kadar (6 dahil değil)\n",
    "print('Slicing 9, \"3\", 8.4, \"Hi-Kod\":', dilim1)\n",
    "\n",
    "# 8.4, \"Hi-Kod\", \"False\", 4.7 değerlerine slicing ile ulaşmak\n",
    "dilim2 = liste[4:8]\n",
    "print('Slicing 8.4, \"Hi-Kod\", \"False\", 4.7:', dilim2)\n"
   ]
  },
  {
   "cell_type": "code",
   "execution_count": 3,
   "id": "ec2a0492-7c48-4cab-bf53-34d2da6b3db3",
   "metadata": {},
   "outputs": [
    {
     "name": "stdout",
     "output_type": "stream",
     "text": [
      "Yeni liste (stringler): ['Python', '3', 'Hi-Kod', 'False']\n"
     ]
    }
   ],
   "source": [
    "#2. hafta 2. ödev 2\n",
    "liste = [\"Python\", True, 9, \"3\", 8.4, \"Hi-Kod\", \"False\", 4.7]\n",
    "\n",
    "yeni_liste = []\n",
    "\n",
    "for eleman in liste:\n",
    "    if isinstance(eleman, str):  # Eğer eleman string ise\n",
    "        yeni_liste.append(eleman)\n",
    "\n",
    "print(\"Yeni liste (stringler):\", yeni_liste)\n"
   ]
  },
  {
   "cell_type": "code",
   "execution_count": 5,
   "id": "d5727bb8-584f-4fe3-8d27-347988bba00b",
   "metadata": {},
   "outputs": [
    {
     "name": "stdout",
     "output_type": "stream",
     "text": [
      "0. indexte bulunan meyve: elma\n",
      "1. indexte bulunan meyve: muz\n",
      "2. indexte bulunan meyve: çilek\n",
      "3. indexte bulunan meyve: armut\n"
     ]
    }
   ],
   "source": [
    "#2. hafta 2. ödev 3\n",
    "meyveler = [\"elma\", \"muz\", \"çilek\", \"armut\"]\n",
    "\n",
    "for index, meyve in enumerate(meyveler):\n",
    "    print(\"{}. indexte bulunan meyve: {}\".format(index, meyve))\n"
   ]
  },
  {
   "cell_type": "code",
   "execution_count": 13,
   "id": "5b80447b-f39b-40b0-b79c-288000a97b9d",
   "metadata": {},
   "outputs": [
    {
     "name": "stdin",
     "output_type": "stream",
     "text": [
      "Öğrenci ismini girin:  fatma\n",
      "Ders ismini girin (Matematik, Fizik, Kimya):  fizik\n"
     ]
    },
    {
     "name": "stdout",
     "output_type": "stream",
     "text": [
      "fatma adlı öğrenci bulunamadı.\n"
     ]
    }
   ],
   "source": [
    "# sözlük 1\n",
    "# Öğrencilerin notlarının olduğu sözlük\n",
    "ogrenci_notlari = {\n",
    "    \"Ayşe\": {\"Matematik\": 85, \"Fizik\": 90, \"Kimya\": 78},\n",
    "    \"Mehmet\": {\"Matematik\": 75, \"Fizik\": 80, \"Kimya\": 88},\n",
    "    \"Fatma\": {\"Matematik\": 95, \"Fizik\": 85, \"Kimya\": 92}\n",
    "}\n",
    "\n",
    "# Kullanıcıdan öğrenci adı ve ders adı alınır\n",
    "isim = input(\"Öğrenci ismini girin: \")\n",
    "ders = input(\"Ders ismini girin (Matematik, Fizik, Kimya): \")\n",
    "\n",
    "# İsim ve ders kontrolü yapılarak not bilgisi verilir\n",
    "if isim in ogrenci_notlari:\n",
    "    if ders in ogrenci_notlari[isim]:\n",
    "        print(f\"{isim} adlı öğrencinin {ders} notu: {ogrenci_notlari[isim][ders]}\")\n",
    "    else:\n",
    "        print(f\"{ders} dersi bulunamadı.\")\n",
    "else:\n",
    "    print(f\"{isim} adlı öğrenci bulunamadı.\")\n",
    "\n",
    "\n",
    "   \n"
   ]
  },
  {
   "cell_type": "code",
   "execution_count": null,
   "id": "7e86e17e-f89b-426a-bc60-ca8bc675d330",
   "metadata": {},
   "outputs": [
    {
     "name": "stdout",
     "output_type": "stream",
     "text": [
      "\n",
      "--- Menü ---\n",
      "1. Not görüntüle\n",
      "2. Not güncelle\n",
      "3. Yeni öğrenci ekle\n",
      "4. Çıkış\n"
     ]
    },
    {
     "name": "stdin",
     "output_type": "stream",
     "text": [
      "Bir seçenek girin (1-4):  2\n",
      "Notunu güncellemek istediğiniz öğrencinin ismini girin:  fatma\n",
      "Güncellemek istediğiniz ders ismini girin (Matematik, Fizik, Kimya):  kimya\n"
     ]
    },
    {
     "name": "stdout",
     "output_type": "stream",
     "text": [
      "fatma adlı öğrenci bulunamadı.\n",
      "\n",
      "--- Menü ---\n",
      "1. Not görüntüle\n",
      "2. Not güncelle\n",
      "3. Yeni öğrenci ekle\n",
      "4. Çıkış\n"
     ]
    },
    {
     "name": "stdin",
     "output_type": "stream",
     "text": [
      "Bir seçenek girin (1-4):  1\n",
      "Notunu görmek istediğiniz öğrencinin ismini girin:  3\n",
      "Ders ismini girin (Matematik, Fizik, Kimya):  matematik\n"
     ]
    },
    {
     "name": "stdout",
     "output_type": "stream",
     "text": [
      "3 adlı öğrenci bulunamadı.\n",
      "\n",
      "--- Menü ---\n",
      "1. Not görüntüle\n",
      "2. Not güncelle\n",
      "3. Yeni öğrenci ekle\n",
      "4. Çıkış\n"
     ]
    },
    {
     "name": "stdin",
     "output_type": "stream",
     "text": [
      "Bir seçenek girin (1-4):  3\n"
     ]
    }
   ],
   "source": [
    "# sözlük 2\n",
    "# Başlangıç sözlüğü\n",
    "ogrenci_notlari = {\n",
    "    \"Ayşe\": {\"Matematik\": 85, \"Fizik\": 90, \"Kimya\": 78},\n",
    "    \"Mehmet\": {\"Matematik\": 75, \"Fizik\": 80, \"Kimya\": 88},\n",
    "    \"Fatma\": {\"Matematik\": 95, \"Fizik\": 85, \"Kimya\": 92}\n",
    "}\n",
    "\n",
    "def not_goruntule():\n",
    "    isim = input(\"Notunu görmek istediğiniz öğrencinin ismini girin: \")\n",
    "    ders = input(\"Ders ismini girin (Matematik, Fizik, Kimya): \")\n",
    "    if isim in ogrenci_notlari:\n",
    "        if ders in ogrenci_notlari[isim]:\n",
    "            print(f\"{isim} adlı öğrencinin {ders} notu: {ogrenci_notlari[isim][ders]}\")\n",
    "        else:\n",
    "            print(f\"{ders} dersi bulunamadı.\")\n",
    "    else:\n",
    "        print(f\"{isim} adlı öğrenci bulunamadı.\")\n",
    "\n",
    "def not_guncelle():\n",
    "    isim = input(\"Notunu güncellemek istediğiniz öğrencinin ismini girin: \")\n",
    "    ders = input(\"Güncellemek istediğiniz ders ismini girin (Matematik, Fizik, Kimya): \")\n",
    "    if isim in ogrenci_notlari:\n",
    "        if ders in ogrenci_notlari[isim]:\n",
    "            yeni_not = int(input(\"Yeni notu girin: \"))\n",
    "            ogrenci_notlari[isim][ders] = yeni_not\n",
    "            print(f\"{isim} adlı öğrencinin {ders} notu güncellendi: {yeni_not}\")\n",
    "        else:\n",
    "            print(f\"{ders} dersi bulunamadı.\")\n",
    "    else:\n",
    "        print(f\"{isim} adlı öğrenci bulunamadı.\")\n",
    "\n",
    "def yeni_ogrenci_ekle():\n",
    "    isim = input(\"Eklemek istediğiniz yeni öğrencinin ismini girin: \")\n",
    "    if isim in ogrenci_notlari:\n",
    "        print(f\"{isim} zaten kayıtlı.\")\n",
    "    else:\n",
    "        matematik = int(input(\"Matematik notunu girin: \"))\n",
    "        fizik = int(input(\"Fizik notunu girin: \"))\n",
    "        kimya = int(input(\"Kimya notunu girin: \"))\n",
    "        ogrenci_notlari[isim] = {\"Matematik\": matematik, \"Fizik\": fizik, \"Kimya\": kimya}\n",
    "        print(f\"{isim} adlı öğrenci başarıyla eklendi.\")\n",
    "\n",
    "def menu():\n",
    "    while True:\n",
    "        print(\"\\n--- Menü ---\")\n",
    "        print(\"1. Not görüntüle\")\n",
    "        print(\"2. Not güncelle\")\n",
    "        print(\"3. Yeni öğrenci ekle\")\n",
    "        print(\"4. Çıkış\")\n",
    "        secim = input(\"Bir seçenek girin (1-4): \")\n",
    "\n",
    "        if secim == \"1\":\n",
    "            not_goruntule()\n",
    "        elif secim == \"2\":\n",
    "            not_guncelle()\n",
    "        elif secim == \"3\":\n",
    "            yeni_ogrenci_ekle()\n",
    "        elif secim == \"4\":\n",
    "            print(\"Programdan çıkılıyor...\")\n",
    "            break\n",
    "        else:\n",
    "            print(\"Geçersiz seçenek, tekrar deneyin.\")\n",
    "\n",
    "# Programı başlat\n",
    "menu()\n",
    "\n"
   ]
  },
  {
   "cell_type": "code",
   "execution_count": null,
   "id": "e6a2a08a-ddb2-4718-97b8-85684bbd1eea",
   "metadata": {},
   "outputs": [],
   "source": []
  }
 ],
 "metadata": {
  "kernelspec": {
   "display_name": "Python [conda env:anaconda3]",
   "language": "python",
   "name": "conda-env-anaconda3-py"
  },
  "language_info": {
   "codemirror_mode": {
    "name": "ipython",
    "version": 3
   },
   "file_extension": ".py",
   "mimetype": "text/x-python",
   "name": "python",
   "nbconvert_exporter": "python",
   "pygments_lexer": "ipython3",
   "version": "3.12.7"
  }
 },
 "nbformat": 4,
 "nbformat_minor": 5
}
