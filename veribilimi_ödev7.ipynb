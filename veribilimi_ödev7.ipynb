{
  "nbformat": 4,
  "nbformat_minor": 0,
  "metadata": {
    "colab": {
      "provenance": [],
      "authorship_tag": "ABX9TyMX8uifOzPgYSrS8UW4Ij+W",
      "include_colab_link": true
    },
    "kernelspec": {
      "name": "python3",
      "display_name": "Python 3"
    },
    "language_info": {
      "name": "python"
    }
  },
  "cells": [
    {
      "cell_type": "markdown",
      "metadata": {
        "id": "view-in-github",
        "colab_type": "text"
      },
      "source": [
        "<a href=\"https://colab.research.google.com/github/emineherkci/-dev/blob/main/veribilimi_%C3%B6dev7.ipynb\" target=\"_parent\"><img src=\"https://colab.research.google.com/assets/colab-badge.svg\" alt=\"Open In Colab\"/></a>"
      ]
    },
    {
      "cell_type": "code",
      "execution_count": 26,
      "metadata": {
        "colab": {
          "base_uri": "https://localhost:8080/"
        },
        "id": "MTueju_um7IS",
        "outputId": "0f69f4f0-dea8-409e-9baf-769592b9029c"
      },
      "outputs": [
        {
          "output_type": "stream",
          "name": "stdout",
          "text": [
            "Dizi: [ 3  7 10  5  2  8]\n",
            "Boyut (ndim): 1\n",
            "Eleman sayısı (size): 6\n",
            "Şekli (shape): (6,)\n"
          ]
        }
      ],
      "source": [
        "#1. ödev\n",
        "import numpy as np\n",
        "dizi = np.array([3, 7, 10, 5, 2, 8], dtype=int)\n",
        "print(\"Dizi:\", dizi)\n",
        "print(\"Boyut (ndim):\", dizi.ndim)\n",
        "print(\"Eleman sayısı (size):\", dizi.size)\n",
        "print(\"Şekli (shape):\", dizi.shape)\n",
        "\n"
      ]
    },
    {
      "cell_type": "code",
      "source": [
        "#2. ödev\n",
        "import numpy as np\n",
        "iki_boyutlu = np.array([[1, 2, 6, 7],\n",
        "                        [4, 3, 9, 5]])\n",
        "print(\"İki Boyutlu Dizi:\\n\", iki_boyutlu)\n",
        "print(\"Boyut (ndim):\", iki_boyutlu.ndim)\n",
        "print(\"Eleman Sayısı (size):\", iki_boyutlu.size)\n",
        "print(\"Şekli (shape):\", iki_boyutlu.shape)\n",
        "print(\"Satır Sayısı:\", iki_boyutlu.shape[0])\n",
        "print(\"Sütun Sayısı:\", iki_boyutlu.shape[1])\n",
        "uc_boyutlu = np.array([[[7, 5, 14], [21, 8, 11]],\n",
        "                       [[8, 6, 20], [14, 3, 9]]])\n",
        "print(\"\\nÜç Boyutlu Dizi:\\n\", uc_boyutlu)\n",
        "print(\"Boyut (ndim):\", uc_boyutlu.ndim)\n",
        "print(\"Eleman Sayısı (size):\", uc_boyutlu.size)\n",
        "print(\"Şekli (shape):\", uc_boyutlu.shape)\n",
        "print(\"Katman Sayısı:\", uc_boyutlu.shape[0])\n",
        "print(\"Satır Sayısı (her katmanda):\", uc_boyutlu.shape[1])\n",
        "print(\"Sütun Sayısı (her satırda):\", uc_boyutlu.shape[2])\n"
      ],
      "metadata": {
        "colab": {
          "base_uri": "https://localhost:8080/"
        },
        "id": "feL6g2KZnmRm",
        "outputId": "fcde6f38-5a0e-41ad-cc0f-e327d48f4813"
      },
      "execution_count": 27,
      "outputs": [
        {
          "output_type": "stream",
          "name": "stdout",
          "text": [
            "İki Boyutlu Dizi:\n",
            " [[1 2 6 7]\n",
            " [4 3 9 5]]\n",
            "Boyut (ndim): 2\n",
            "Eleman Sayısı (size): 8\n",
            "Şekli (shape): (2, 4)\n",
            "Satır Sayısı: 2\n",
            "Sütun Sayısı: 4\n",
            "\n",
            "Üç Boyutlu Dizi:\n",
            " [[[ 7  5 14]\n",
            "  [21  8 11]]\n",
            "\n",
            " [[ 8  6 20]\n",
            "  [14  3  9]]]\n",
            "Boyut (ndim): 3\n",
            "Eleman Sayısı (size): 12\n",
            "Şekli (shape): (2, 2, 3)\n",
            "Katman Sayısı: 2\n",
            "Satır Sayısı (her katmanda): 2\n",
            "Sütun Sayısı (her satırda): 3\n"
          ]
        }
      ]
    },
    {
      "cell_type": "code",
      "source": [
        "#3. ödev\n",
        "iki_boyutlu = np.array([[1, 2, 6, 7],\n",
        "                        [4, 3, 9, 5]])\n",
        "print(\"2 elemanı:\", iki_boyutlu[0, 1])\n",
        "print(\"7 elemanı:\", iki_boyutlu[0, 3])\n",
        "uc_boyutlu = np.array([[[7, 5, 14],\n",
        "                        [21, 8, 11]],\n",
        "\n",
        "                       [[8, 6, 20],\n",
        "                        [14, 3, 9]]])\n",
        "print(\"9 elemanı:\", uc_boyutlu[1, 1, 2])\n",
        "print(\"5 elemanı:\", uc_boyutlu[0, 0, 1])\n"
      ],
      "metadata": {
        "colab": {
          "base_uri": "https://localhost:8080/"
        },
        "id": "1z9ym1w-nmVB",
        "outputId": "8b191aba-1834-41b5-df8d-82d3c3cacf74"
      },
      "execution_count": 28,
      "outputs": [
        {
          "output_type": "stream",
          "name": "stdout",
          "text": [
            "2 elemanı: 2\n",
            "7 elemanı: 7\n",
            "9 elemanı: 9\n",
            "5 elemanı: 5\n"
          ]
        }
      ]
    },
    {
      "cell_type": "code",
      "source": [
        "# 4. ödev\n",
        "import numpy as np\n",
        "\n",
        "# İki boyutlu array\n",
        "iki_boyutlu = np.array([[1, 2, 6, 7],\n",
        "                        [4, 3, 9, 5]])\n",
        "\n",
        "# Üç boyutlu array\n",
        "uc_boyutlu = np.array([[[7, 5, 14],\n",
        "                        [21, 8, 11]],\n",
        "\n",
        "                       [[8, 6, 20],\n",
        "                        [14, 3, 9]]])\n",
        "\n",
        "# Slicing işlemleri\n",
        "print(\"İki boyutlu arraydeki 2 ve 6:\", iki_boyutlu[0, 1:3])\n",
        "print(\"İki boyutlu arraydeki 3, 9, 5:\", iki_boyutlu[1, 1:])\n",
        "print(\"Üç boyutlu arraydeki 21, 8, 11:\", uc_boyutlu[0, 1, :])\n",
        "print(\"Üç boyutlu arraydeki 6, 20:\", uc_boyutlu[1, 0, 1:3])\n"
      ],
      "metadata": {
        "colab": {
          "base_uri": "https://localhost:8080/"
        },
        "id": "pMdxaxeLoSGA",
        "outputId": "7bdef22e-d619-4678-f53d-c9a923bde0b9"
      },
      "execution_count": 29,
      "outputs": [
        {
          "output_type": "stream",
          "name": "stdout",
          "text": [
            "İki boyutlu arraydeki 2 ve 6: [2 6]\n",
            "İki boyutlu arraydeki 3, 9, 5: [3 9 5]\n",
            "Üç boyutlu arraydeki 21, 8, 11: [21  8 11]\n",
            "Üç boyutlu arraydeki 6, 20: [ 6 20]\n"
          ]
        }
      ]
    },
    {
      "cell_type": "code",
      "source": [
        "# 5. ödev\n",
        "import numpy as np\n",
        "\n",
        "# 5 satır 3 sütunluk sıfırlardan oluşan array\n",
        "sifirlar = np.zeros((5, 3), dtype=int)\n",
        "\n",
        "# 5 satır 3 sütunluk birlerden oluşan array\n",
        "birler = np.ones((5, 3), dtype=int)\n",
        "\n",
        "# Satır bazında birleştirme (alt alta ekleme)\n",
        "satir_birlesim = np.vstack((sifirlar, birler))\n",
        "\n",
        "# Sütun bazında birleştirme (yan yana ekleme)\n",
        "sutun_birlesim = np.hstack((sifirlar, birler))\n",
        "\n",
        "# Sonuçları yazdıralım\n",
        "print(\"Sıfırlardan oluşan dizi:\\n\", sifirlar)\n",
        "print(\"\\nBirlerden oluşan dizi:\\n\", birler)\n",
        "print(\"\\nSatır bazında birleştirme:\\n\", satir_birlesim)\n",
        "print(\"\\nSütun bazında birleştirme:\\n\", sutun_birlesim)\n"
      ],
      "metadata": {
        "colab": {
          "base_uri": "https://localhost:8080/"
        },
        "id": "MaE0G_xnnmca",
        "outputId": "19ef624b-09e3-4e02-fbed-71c1e97d0727"
      },
      "execution_count": 30,
      "outputs": [
        {
          "output_type": "stream",
          "name": "stdout",
          "text": [
            "Sıfırlardan oluşan dizi:\n",
            " [[0 0 0]\n",
            " [0 0 0]\n",
            " [0 0 0]\n",
            " [0 0 0]\n",
            " [0 0 0]]\n",
            "\n",
            "Birlerden oluşan dizi:\n",
            " [[1 1 1]\n",
            " [1 1 1]\n",
            " [1 1 1]\n",
            " [1 1 1]\n",
            " [1 1 1]]\n",
            "\n",
            "Satır bazında birleştirme:\n",
            " [[0 0 0]\n",
            " [0 0 0]\n",
            " [0 0 0]\n",
            " [0 0 0]\n",
            " [0 0 0]\n",
            " [1 1 1]\n",
            " [1 1 1]\n",
            " [1 1 1]\n",
            " [1 1 1]\n",
            " [1 1 1]]\n",
            "\n",
            "Sütun bazında birleştirme:\n",
            " [[0 0 0 1 1 1]\n",
            " [0 0 0 1 1 1]\n",
            " [0 0 0 1 1 1]\n",
            " [0 0 0 1 1 1]\n",
            " [0 0 0 1 1 1]]\n"
          ]
        }
      ]
    }
  ]
}